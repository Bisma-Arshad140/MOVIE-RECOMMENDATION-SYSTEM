{
  "nbformat": 4,
  "nbformat_minor": 0,
  "metadata": {
    "colab": {
      "provenance": [],
      "name": "movie1.ipynb",
      "include_colab_link": true
    },
    "kernelspec": {
      "name": "python3",
      "display_name": "Python 3"
    },
    "language_info": {
      "name": "python"
    }
  },
  "cells": [
    {
      "cell_type": "markdown",
      "metadata": {
        "id": "view-in-github",
        "colab_type": "text"
      },
      "source": [
        "<a href=\"https://colab.research.google.com/github/Bisma-Arshad140/MOVIE-RECOMMENDATION-SYSTEM/blob/main/movie1.ipynb\" target=\"_parent\"><img src=\"https://colab.research.google.com/assets/colab-badge.svg\" alt=\"Open In Colab\"/></a>"
      ]
    },
    {
      "cell_type": "code",
      "source": [
        "!pip install scikit-surprise"
      ],
      "metadata": {
        "colab": {
          "base_uri": "https://localhost:8080/"
        },
        "id": "Aiu5sIJfCB_3",
        "outputId": "8daf84ba-741e-4385-ec03-8fee4339f394"
      },
      "execution_count": null,
      "outputs": [
        {
          "output_type": "stream",
          "name": "stdout",
          "text": [
            "Requirement already satisfied: scikit-surprise in /usr/local/lib/python3.11/dist-packages (1.1.4)\n",
            "Requirement already satisfied: joblib>=1.2.0 in /usr/local/lib/python3.11/dist-packages (from scikit-surprise) (1.4.2)\n",
            "Requirement already satisfied: numpy>=1.19.5 in /usr/local/lib/python3.11/dist-packages (from scikit-surprise) (2.0.2)\n",
            "Requirement already satisfied: scipy>=1.6.0 in /usr/local/lib/python3.11/dist-packages (from scikit-surprise) (1.15.2)\n"
          ]
        }
      ]
    },
    {
      "cell_type": "code",
      "source": [
        "!pip install \"numpy<2.0\"\n"
      ],
      "metadata": {
        "colab": {
          "base_uri": "https://localhost:8080/"
        },
        "id": "KgbndMQLacu9",
        "outputId": "46f9d333-0024-415a-cb45-7245e5e0869f"
      },
      "execution_count": null,
      "outputs": [
        {
          "output_type": "stream",
          "name": "stdout",
          "text": [
            "Collecting numpy<2.0\n",
            "  Downloading numpy-1.26.4-cp311-cp311-manylinux_2_17_x86_64.manylinux2014_x86_64.whl.metadata (61 kB)\n",
            "\u001b[?25l     \u001b[90m━━━━━━━━━━━━━━━━━━━━━━━━━━━━━━━━━━━━━━━━\u001b[0m \u001b[32m0.0/61.0 kB\u001b[0m \u001b[31m?\u001b[0m eta \u001b[36m-:--:--\u001b[0m\r\u001b[2K     \u001b[90m━━━━━━━━━━━━━━━━━━━━━━━━━━━━━━━━━━━━━━━━\u001b[0m \u001b[32m61.0/61.0 kB\u001b[0m \u001b[31m2.7 MB/s\u001b[0m eta \u001b[36m0:00:00\u001b[0m\n",
            "\u001b[?25hDownloading numpy-1.26.4-cp311-cp311-manylinux_2_17_x86_64.manylinux2014_x86_64.whl (18.3 MB)\n",
            "\u001b[2K   \u001b[90m━━━━━━━━━━━━━━━━━━━━━━━━━━━━━━━━━━━━━━━━\u001b[0m \u001b[32m18.3/18.3 MB\u001b[0m \u001b[31m45.8 MB/s\u001b[0m eta \u001b[36m0:00:00\u001b[0m\n",
            "\u001b[?25hInstalling collected packages: numpy\n",
            "  Attempting uninstall: numpy\n",
            "    Found existing installation: numpy 2.0.2\n",
            "    Uninstalling numpy-2.0.2:\n",
            "      Successfully uninstalled numpy-2.0.2\n",
            "\u001b[31mERROR: pip's dependency resolver does not currently take into account all the packages that are installed. This behaviour is the source of the following dependency conflicts.\n",
            "thinc 8.3.6 requires numpy<3.0.0,>=2.0.0, but you have numpy 1.26.4 which is incompatible.\u001b[0m\u001b[31m\n",
            "\u001b[0mSuccessfully installed numpy-1.26.4\n"
          ]
        }
      ]
    },
    {
      "cell_type": "code",
      "source": [
        "import os\n",
        "os.kill(os.getpid(), 9)\n"
      ],
      "metadata": {
        "id": "XnCDeLu8a8GD"
      },
      "execution_count": null,
      "outputs": []
    },
    {
      "cell_type": "code",
      "source": [
        "import pandas as pd\n",
        "from surprise import Dataset, Reader, SVD, accuracy\n",
        "from surprise.model_selection import train_test_split"
      ],
      "metadata": {
        "id": "j9Ls23aZAeTV"
      },
      "execution_count": null,
      "outputs": []
    },
    {
      "cell_type": "code",
      "source": [
        "# Reading .dat files with '::' separator and Latin-1 encoding\n",
        "movies = pd.read_csv('/movies.csv', sep='::', engine='python',\n",
        "                     names=['MovieID','title','Genres'],\n",
        "                     encoding='ISO-8859-1')\n",
        "ratings = pd.read_csv('/ratings.csv', sep='::', engine='python',\n",
        "                      names=['UserID','MovieID','Rating','Timestamp'],\n",
        "                      encoding='ISO-8859-1')"
      ],
      "metadata": {
        "id": "C7NIRegOP3BU"
      },
      "execution_count": null,
      "outputs": []
    },
    {
      "cell_type": "code",
      "source": [
        "movies = pd.read_csv('/movies.csv', sep=';', encoding='ISO-8859-1')\n",
        "ratings = pd.read_csv('/ratings.csv', sep=';', encoding='ISO-8859-1')\n",
        "users = pd.read_csv('/users.csv', sep=';', encoding='ISO-8859-1')"
      ],
      "metadata": {
        "id": "JraL4x_nTPd1"
      },
      "execution_count": null,
      "outputs": []
    },
    {
      "cell_type": "code",
      "source": [
        "print(\"Movies columns:\", movies.columns)\n",
        "print(\"Ratings columns:\", ratings.columns)"
      ],
      "metadata": {
        "colab": {
          "base_uri": "https://localhost:8080/"
        },
        "id": "Sj5uW5LrU6Qg",
        "outputId": "6a46ec8f-7025-477b-daf1-9b28652b77b6"
      },
      "execution_count": null,
      "outputs": [
        {
          "output_type": "stream",
          "name": "stdout",
          "text": [
            "Movies columns: Index(['movieId', 'title', 'genres', ',,'], dtype='object')\n",
            "Ratings columns: Index(['userId', 'movieId', 'rating', 'timestamp'], dtype='object')\n"
          ]
        }
      ]
    },
    {
      "cell_type": "markdown",
      "source": [
        "Isse ratings aur movies data ek saath aa jaye ga — har rating ke sath us movie ka naam aur genre bh"
      ],
      "metadata": {
        "id": "fkNvAUegW_k8"
      }
    },
    {
      "cell_type": "code",
      "source": [
        "# Convert both movieId columns to string (or int, dono same ho to chalega)\n",
        "ratings['movieId'] = ratings['movieId'].astype(str)\n",
        "movies['movieId'] = movies['movieId'].astype(str)\n",
        "\n",
        "# Now merge\n",
        "data = pd.merge(ratings, movies, on='movieId')\n",
        "print(data.head())\n",
        "\n"
      ],
      "metadata": {
        "colab": {
          "base_uri": "https://localhost:8080/"
        },
        "id": "em8zFgqkWJ8l",
        "outputId": "0a730f5b-305f-4f90-d3b5-cea5415e7548"
      },
      "execution_count": null,
      "outputs": [
        {
          "output_type": "stream",
          "name": "stdout",
          "text": [
            "   userId movieId  rating  timestamp                                   title  \\\n",
            "0       1    1193       5  978300760  One Flew Over the Cuckoo's Nest (1975)   \n",
            "1       1     661       3  978302109        James and the Giant Peach (1996)   \n",
            "2       1     914       3  978301968                     My Fair Lady (1964)   \n",
            "3       1    3408       4  978300275                  Erin Brockovich (2000)   \n",
            "4       1    2355       5  978824291                    Bug's Life, A (1998)   \n",
            "\n",
            "                         genres  ,,  \n",
            "0                         Drama  ,,  \n",
            "1  Animation|Children's|Musical  ,,  \n",
            "2               Musical|Romance  ,,  \n",
            "3                         Drama  ,,  \n",
            "4   Animation|Children's|Comedy   ,  \n"
          ]
        }
      ]
    },
    {
      "cell_type": "markdown",
      "source": [
        "CONVERT TIMESTAMP TO DATATIME"
      ],
      "metadata": {
        "id": "Dx5q-o4WXT4J"
      }
    },
    {
      "cell_type": "code",
      "source": [
        "data['timestamp'] = pd.to_datetime(data['timestamp'], unit='s')\n",
        "print(data[['timestamp']].head())"
      ],
      "metadata": {
        "colab": {
          "base_uri": "https://localhost:8080/"
        },
        "id": "ppFKk2eKWn8D",
        "outputId": "37ef3eb1-0021-4a8d-bd30-1007a949e86f"
      },
      "execution_count": null,
      "outputs": [
        {
          "output_type": "stream",
          "name": "stdout",
          "text": [
            "            timestamp\n",
            "0 2000-12-31 22:12:40\n",
            "1 2000-12-31 22:35:09\n",
            "2 2000-12-31 22:32:48\n",
            "3 2000-12-31 22:04:35\n",
            "4 2001-01-06 23:38:11\n"
          ]
        }
      ]
    },
    {
      "cell_type": "code",
      "source": [
        "\n",
        "\n",
        "# Create a Reader object to parse the rating data\n",
        "reader = Reader(rating_scale=(1, 5))\n",
        "\n",
        "# Load data\n",
        "data = Dataset.load_from_df(ratings[['userId', 'movieId', 'rating']], reader)\n",
        "\n",
        "# Split data into train and test sets\n",
        "trainset, testset = train_test_split(data, test_size=0.2)\n",
        "\n",
        "# Train the SVD model\n",
        "model = SVD()\n",
        "model.fit(trainset)\n",
        "\n",
        "# Make predictions on the test set\n",
        "predictions = model.test(testset)\n",
        "\n",
        "# Evaluate the model\n",
        "accuracy.rmse(predictions)\n",
        "\n",
        "# Predict a specific rating (for example, for user 1 and movie 50)\n",
        "predicted_rating = model.predict(1, 50)  # User 1, Movie 50\n",
        "print(predicted_rating)"
      ],
      "metadata": {
        "colab": {
          "base_uri": "https://localhost:8080/"
        },
        "id": "1Fu-yV7tXwei",
        "outputId": "719e1a94-9b55-4573-f5ca-77244198bfd5"
      },
      "execution_count": null,
      "outputs": [
        {
          "output_type": "stream",
          "name": "stdout",
          "text": [
            "RMSE: 0.8743\n",
            "user: 1          item: 50         r_ui = None   est = 3.77   {'was_impossible': False}\n"
          ]
        }
      ]
    },
    {
      "cell_type": "markdown",
      "source": [
        "MAKE SPECIFIC PREDICTION FOR USER AND **MOVIE**"
      ],
      "metadata": {
        "id": "pBKtHEgOhfLD"
      }
    },
    {
      "cell_type": "code",
      "source": [
        "# Predict a rating for user 1 and movie 50\n",
        "predicted_rating = model.predict(1, 50)  # User 1, Movie 50\n",
        "print(f\"Predicted Rating for User 1 and Movie 50: {predicted_rating.est:.2f}\")"
      ],
      "metadata": {
        "colab": {
          "base_uri": "https://localhost:8080/"
        },
        "id": "U-Z4PCXpYh3I",
        "outputId": "3fdc0bdc-bc80-40a0-f28d-224861051234"
      },
      "execution_count": null,
      "outputs": [
        {
          "output_type": "stream",
          "name": "stdout",
          "text": [
            "Predicted Rating for User 1 and Movie 50: 3.77\n"
          ]
        }
      ]
    },
    {
      "cell_type": "markdown",
      "source": [
        "**GENERATE TOP-N MOVIE RECOMMADATION FOR A USER**"
      ],
      "metadata": {
        "id": "yQ9L6DFKiEME"
      }
    },
    {
      "cell_type": "code",
      "source": [
        "# Function to get top N recommendations\n",
        "def get_top_n(predictions, n=10):\n",
        "    top_n = {}\n",
        "    for uid, iid, true_r, est, _ in predictions:\n",
        "        if uid not in top_n:\n",
        "            top_n[uid] = []\n",
        "        top_n[uid].append((iid, est))\n",
        "\n",
        "    for uid, user_ratings in top_n.items():\n",
        "        user_ratings.sort(key=lambda x: x[1], reverse=True)\n",
        "        top_n[uid] = user_ratings[:n]\n",
        "\n",
        "    return top_n\n",
        "\n",
        "# Get the top 10 recommendations for user 1\n",
        "top_n = get_top_n(predictions, n=10)\n",
        "\n",
        "# Print the top 10 recommended movie IDs for user 1\n",
        "print(\"Top 10 recommended movie IDs for user 1:\")\n",
        "for movie_id, rating in top_n[1]:\n",
        "    print(f\"Movie ID: {movie_id}, Predicted Rating: {rating:.2f}\")"
      ],
      "metadata": {
        "colab": {
          "base_uri": "https://localhost:8080/"
        },
        "id": "gUi7UhsAh9D4",
        "outputId": "a090df85-898e-4535-9b4b-1eb95f85ba20"
      },
      "execution_count": null,
      "outputs": [
        {
          "output_type": "stream",
          "name": "stdout",
          "text": [
            "Top 10 recommended movie IDs for user 1:\n",
            "Movie ID: 594, Predicted Rating: 4.54\n",
            "Movie ID: 2762, Predicted Rating: 4.49\n",
            "Movie ID: 720, Predicted Rating: 4.47\n",
            "Movie ID: 1022, Predicted Rating: 4.35\n",
            "Movie ID: 2687, Predicted Rating: 4.26\n",
            "Movie ID: 2804, Predicted Rating: 4.23\n",
            "Movie ID: 2791, Predicted Rating: 4.06\n",
            "Movie ID: 1566, Predicted Rating: 4.05\n",
            "Movie ID: 2355, Predicted Rating: 4.02\n",
            "Movie ID: 3186, Predicted Rating: 3.94\n"
          ]
        }
      ]
    },
    {
      "cell_type": "code",
      "source": [
        "# Assuming you have a 'movies' DataFrame with 'movieId' and 'title'\n",
        "movie_titles = {movieId: title for movieId, title in zip(movies['movieId'], movies['title'])}\n",
        "\n",
        "# Print top 10 movie titles for user 1\n",
        "print(\"Top 10 recommended movies for user 1:\")\n",
        "for movie_id, rating in top_n[1]:\n",
        "    movie_title = movie_titles.get(movie_id, \"Unknown Movie\")\n",
        "    print(f\"Movie: {movie_title}, Predicted Rating: {rating:.2f}\")"
      ],
      "metadata": {
        "colab": {
          "base_uri": "https://localhost:8080/"
        },
        "id": "DsN5cH2oiR1w",
        "outputId": "45c28eb4-e30a-44f6-dc89-9da4a895be08"
      },
      "execution_count": null,
      "outputs": [
        {
          "output_type": "stream",
          "name": "stdout",
          "text": [
            "Top 10 recommended movies for user 1:\n",
            "Movie: Snow White and the Seven Dwarfs (1937), Predicted Rating: 4.54\n",
            "Movie: Sixth Sense, The (1999), Predicted Rating: 4.49\n",
            "Movie: Wallace & Gromit, Predicted Rating: 4.47\n",
            "Movie: Cinderella (1950), Predicted Rating: 4.35\n",
            "Movie: Tarzan (1999), Predicted Rating: 4.26\n",
            "Movie: Christmas Story, A (1983), Predicted Rating: 4.23\n",
            "Movie: Airplane! (1980), Predicted Rating: 4.06\n",
            "Movie: Hercules (1997), Predicted Rating: 4.05\n",
            "Movie: Bug's Life, A (1998), Predicted Rating: 4.02\n",
            "Movie: Girl, Interrupted (1999), Predicted Rating: 3.94\n"
          ]
        }
      ]
    },
    {
      "cell_type": "code",
      "source": [
        "# Save recommendations to a DataFrame\n",
        "recommendations = []\n",
        "for movie_id, rating in top_n[1]:\n",
        "    movie_title = movie_titles.get(movie_id, \"Unknown Movie\")\n",
        "    recommendations.append([1, movie_title, rating])  # Assuming user 1\n",
        "\n",
        "# Convert to DataFrame\n",
        "recommendations_df = pd.DataFrame(recommendations, columns=['UserID', 'MovieTitle', 'PredictedRating'])\n",
        "\n",
        "# Save to CSV\n",
        "recommendations_df.to_csv('user_1_recommendations.csv', index=False)"
      ],
      "metadata": {
        "id": "DSNjWsPzie0D"
      },
      "execution_count": null,
      "outputs": []
    },
    {
      "cell_type": "code",
      "source": [
        "from sklearn.feature_extraction.text import TfidfVectorizer\n",
        "from sklearn.metrics.pairwise import linear_kernel\n",
        "\n",
        "# Fill missing values\n",
        "movies['title'] = movies['title'].fillna('')\n",
        "\n",
        "# Create TF-IDF matrix\n",
        "tfidf = TfidfVectorizer(stop_words='english')\n",
        "tfidf_matrix = tfidf.fit_transform(movies['title'])\n",
        "\n",
        "# Compute cosine similarity matrix\n",
        "cosine_sim = linear_kernel(tfidf_matrix, tfidf_matrix)\n",
        "\n",
        "# Create reverse mapping of title to index\n",
        "indices = pd.Series(movies.index, index=movies['title']).drop_duplicates()\n",
        "\n",
        "# Function to get similar movies\n",
        "def get_similar_movies(title, num=5):\n",
        "    idx = indices.get(title)\n",
        "    if idx is None:\n",
        "        return \"Movie not found.\"\n",
        "    sim_scores = list(enumerate(cosine_sim[idx]))\n",
        "    sim_scores = sorted(sim_scores, key=lambda x: x[1], reverse=True)\n",
        "    sim_scores = sim_scores[1:num+1]\n",
        "    movie_indices = [i[0] for i in sim_scores]\n",
        "    return movies['title'].iloc[movie_indices]\n",
        "\n",
        "# Example usage\n",
        "print(\"Similar movies to 'Toy Story (1995)':\")\n",
        "print(get_similar_movies('Toy Story (1995)'))"
      ],
      "metadata": {
        "id": "s5gNRDUmi0l5",
        "colab": {
          "base_uri": "https://localhost:8080/"
        },
        "outputId": "3f7757ef-81d3-4746-baf4-865b61d5beca"
      },
      "execution_count": null,
      "outputs": [
        {
          "output_type": "stream",
          "name": "stdout",
          "text": [
            "Similar movies to 'Toy Story (1995)':\n",
            "3045                   Toy Story 2 (1999)\n",
            "2892              Story of Us, The (1999)\n",
            "2039                    L.A. Story (1991)\n",
            "2205                Lilian's Story (1995)\n",
            "292     Pyromaniac's Love Story, A (1995)\n",
            "Name: title, dtype: object\n"
          ]
        }
      ]
    }
  ]
}